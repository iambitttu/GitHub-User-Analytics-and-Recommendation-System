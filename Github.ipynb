{
 "cells": [
  {
   "cell_type": "code",
   "execution_count": 1,
   "id": "c929409e",
   "metadata": {},
   "outputs": [],
   "source": [
    "#Importing necessary libraries\n",
    "import requests\n",
    "import pymongo\n",
    "from datetime import datetime"
   ]
  },
  {
   "cell_type": "code",
   "execution_count": 18,
   "id": "da7dcb5f",
   "metadata": {},
   "outputs": [],
   "source": [
    "# Function to fetch user data from GitHub API\n",
    "def fetch_user_data(username):\n",
    "    url = f\"https://api.github.com/users/{'iambitttu'}\"\n",
    "    response = requests.get(url)\n",
    "    if response.status_code == 200:\n",
    "        return response.json()\n",
    "    else:\n",
    "        return None"
   ]
  },
  {
   "cell_type": "code",
   "execution_count": 19,
   "id": "cd8f4fa2",
   "metadata": {},
   "outputs": [
    {
     "data": {
      "text/plain": [
       "{'login': 'iambitttu',\n",
       " 'id': 117813323,\n",
       " 'node_id': 'U_kgDOBwWwSw',\n",
       " 'avatar_url': 'https://avatars.githubusercontent.com/u/117813323?v=4',\n",
       " 'gravatar_id': '',\n",
       " 'url': 'https://api.github.com/users/iambitttu',\n",
       " 'html_url': 'https://github.com/iambitttu',\n",
       " 'followers_url': 'https://api.github.com/users/iambitttu/followers',\n",
       " 'following_url': 'https://api.github.com/users/iambitttu/following{/other_user}',\n",
       " 'gists_url': 'https://api.github.com/users/iambitttu/gists{/gist_id}',\n",
       " 'starred_url': 'https://api.github.com/users/iambitttu/starred{/owner}{/repo}',\n",
       " 'subscriptions_url': 'https://api.github.com/users/iambitttu/subscriptions',\n",
       " 'organizations_url': 'https://api.github.com/users/iambitttu/orgs',\n",
       " 'repos_url': 'https://api.github.com/users/iambitttu/repos',\n",
       " 'events_url': 'https://api.github.com/users/iambitttu/events{/privacy}',\n",
       " 'received_events_url': 'https://api.github.com/users/iambitttu/received_events',\n",
       " 'type': 'User',\n",
       " 'site_admin': False,\n",
       " 'name': 'Bittu kumar Singh',\n",
       " 'company': None,\n",
       " 'blog': 'https://www.datascienceportfol.io/bittu',\n",
       " 'location': 'Bengaluru',\n",
       " 'email': None,\n",
       " 'hireable': None,\n",
       " 'bio': 'Data Scientist | Python | SQL | Machine Learning | NLP | Tableau | Deep Learning | Power BI | AWS | GCP',\n",
       " 'twitter_username': None,\n",
       " 'public_repos': 39,\n",
       " 'public_gists': 0,\n",
       " 'followers': 7,\n",
       " 'following': 16,\n",
       " 'created_at': '2022-11-09T08:47:41Z',\n",
       " 'updated_at': '2024-02-10T14:16:06Z'}"
      ]
     },
     "execution_count": 19,
     "metadata": {},
     "output_type": "execute_result"
    }
   ],
   "source": [
    "fetch_user_data('username')"
   ]
  },
  {
   "cell_type": "code",
   "execution_count": 24,
   "id": "482404cf",
   "metadata": {},
   "outputs": [],
   "source": [
    "# Function to store user data in MongoDB\n",
    "def store_user_data(user_data):\n",
    "    client = pymongo.MongoClient(\"mongodb://localhost:27017/\")\n",
    "    db = client[\"github_users\"]\n",
    "    collection = db[\"user_profiles\"]\n",
    "    collection.insert_one(fetch_user_data('username'))"
   ]
  },
  {
   "cell_type": "code",
   "execution_count": 25,
   "id": "be983f92",
   "metadata": {},
   "outputs": [],
   "source": [
    "client = pymongo.MongoClient('mongodb://localhost:27017')"
   ]
  },
  {
   "cell_type": "code",
   "execution_count": 26,
   "id": "b59504f0",
   "metadata": {},
   "outputs": [
    {
     "name": "stdout",
     "output_type": "stream",
     "text": [
      "['Ytube', 'admin', 'bizcard', 'config', 'data', 'database_name', 'database_ytube', 'github_users', 'local', 'pppulse', 'stock_data', 'twitter', 'your_database_name']\n"
     ]
    }
   ],
   "source": [
    "print(client.list_database_names())"
   ]
  },
  {
   "cell_type": "code",
   "execution_count": 27,
   "id": "fa4774e8",
   "metadata": {},
   "outputs": [],
   "source": [
    "# Example usage\n",
    "username = \"octocat\"\n",
    "user_data = fetch_user_data(username)\n",
    "if user_data:\n",
    "    user_data[\"_id\"] = user_data[\"login\"] # Use login as document ID\n",
    "    store_user_data(user_data)"
   ]
  },
  {
   "cell_type": "code",
   "execution_count": 28,
   "id": "f24946a5",
   "metadata": {},
   "outputs": [
    {
     "data": {
      "text/plain": [
       "{'login': 'iambitttu',\n",
       " 'id': 117813323,\n",
       " 'node_id': 'U_kgDOBwWwSw',\n",
       " 'avatar_url': 'https://avatars.githubusercontent.com/u/117813323?v=4',\n",
       " 'gravatar_id': '',\n",
       " 'url': 'https://api.github.com/users/iambitttu',\n",
       " 'html_url': 'https://github.com/iambitttu',\n",
       " 'followers_url': 'https://api.github.com/users/iambitttu/followers',\n",
       " 'following_url': 'https://api.github.com/users/iambitttu/following{/other_user}',\n",
       " 'gists_url': 'https://api.github.com/users/iambitttu/gists{/gist_id}',\n",
       " 'starred_url': 'https://api.github.com/users/iambitttu/starred{/owner}{/repo}',\n",
       " 'subscriptions_url': 'https://api.github.com/users/iambitttu/subscriptions',\n",
       " 'organizations_url': 'https://api.github.com/users/iambitttu/orgs',\n",
       " 'repos_url': 'https://api.github.com/users/iambitttu/repos',\n",
       " 'events_url': 'https://api.github.com/users/iambitttu/events{/privacy}',\n",
       " 'received_events_url': 'https://api.github.com/users/iambitttu/received_events',\n",
       " 'type': 'User',\n",
       " 'site_admin': False,\n",
       " 'name': 'Bittu kumar Singh',\n",
       " 'company': None,\n",
       " 'blog': 'https://www.datascienceportfol.io/bittu',\n",
       " 'location': 'Bengaluru',\n",
       " 'email': None,\n",
       " 'hireable': None,\n",
       " 'bio': 'Data Scientist | Python | SQL | Machine Learning | NLP | Tableau | Deep Learning | Power BI | AWS | GCP',\n",
       " 'twitter_username': None,\n",
       " 'public_repos': 39,\n",
       " 'public_gists': 0,\n",
       " 'followers': 7,\n",
       " 'following': 16,\n",
       " 'created_at': '2022-11-09T08:47:41Z',\n",
       " 'updated_at': '2024-02-10T14:16:06Z',\n",
       " '_id': 'iambitttu'}"
      ]
     },
     "execution_count": 28,
     "metadata": {},
     "output_type": "execute_result"
    }
   ],
   "source": [
    "user_data"
   ]
  },
  {
   "cell_type": "code",
   "execution_count": 29,
   "id": "8dde5562",
   "metadata": {},
   "outputs": [
    {
     "name": "stdout",
     "output_type": "stream",
     "text": [
      "Requirement already satisfied: dash in c:\\users\\bittu\\anaconda3\\lib\\site-packages (2.16.1)\n",
      "Requirement already satisfied: Werkzeug<3.1 in c:\\users\\bittu\\anaconda3\\lib\\site-packages (from dash) (2.0.3)\n",
      "Requirement already satisfied: requests in c:\\users\\bittu\\anaconda3\\lib\\site-packages (from dash) (2.31.0)\n",
      "Requirement already satisfied: Flask<3.1,>=1.0.4 in c:\\users\\bittu\\anaconda3\\lib\\site-packages (from dash) (1.1.2)\n",
      "Requirement already satisfied: dash-table==5.0.0 in c:\\users\\bittu\\anaconda3\\lib\\site-packages (from dash) (5.0.0)\n",
      "Requirement already satisfied: importlib-metadata in c:\\users\\bittu\\anaconda3\\lib\\site-packages (from dash) (4.11.3)\n",
      "Requirement already satisfied: plotly>=5.0.0 in c:\\users\\bittu\\anaconda3\\lib\\site-packages (from dash) (5.9.0)\n",
      "Requirement already satisfied: setuptools in c:\\users\\bittu\\anaconda3\\lib\\site-packages (from dash) (63.4.1)\n",
      "Requirement already satisfied: retrying in c:\\users\\bittu\\anaconda3\\lib\\site-packages (from dash) (1.3.4)\n",
      "Requirement already satisfied: dash-core-components==2.0.0 in c:\\users\\bittu\\anaconda3\\lib\\site-packages (from dash) (2.0.0)\n",
      "Requirement already satisfied: typing-extensions>=4.1.1 in c:\\users\\bittu\\anaconda3\\lib\\site-packages (from dash) (4.8.0)\n",
      "Requirement already satisfied: dash-html-components==2.0.0 in c:\\users\\bittu\\anaconda3\\lib\\site-packages (from dash) (2.0.0)\n",
      "Requirement already satisfied: nest-asyncio in c:\\users\\bittu\\anaconda3\\lib\\site-packages (from dash) (1.5.5)\n",
      "Requirement already satisfied: Jinja2>=2.10.1 in c:\\users\\bittu\\anaconda3\\lib\\site-packages (from Flask<3.1,>=1.0.4->dash) (2.11.3)\n",
      "Requirement already satisfied: itsdangerous>=0.24 in c:\\users\\bittu\\anaconda3\\lib\\site-packages (from Flask<3.1,>=1.0.4->dash) (2.0.1)\n",
      "Requirement already satisfied: click>=5.1 in c:\\users\\bittu\\anaconda3\\lib\\site-packages (from Flask<3.1,>=1.0.4->dash) (8.0.4)\n",
      "Requirement already satisfied: tenacity>=6.2.0 in c:\\users\\bittu\\anaconda3\\lib\\site-packages (from plotly>=5.0.0->dash) (8.0.1)\n",
      "Requirement already satisfied: zipp>=0.5 in c:\\users\\bittu\\anaconda3\\lib\\site-packages (from importlib-metadata->dash) (3.8.0)\n",
      "Requirement already satisfied: idna<4,>=2.5 in c:\\users\\bittu\\anaconda3\\lib\\site-packages (from requests->dash) (3.3)\n",
      "Requirement already satisfied: urllib3<3,>=1.21.1 in c:\\users\\bittu\\anaconda3\\lib\\site-packages (from requests->dash) (1.26.11)\n",
      "Requirement already satisfied: certifi>=2017.4.17 in c:\\users\\bittu\\anaconda3\\lib\\site-packages (from requests->dash) (2022.9.14)\n",
      "Requirement already satisfied: charset-normalizer<4,>=2 in c:\\users\\bittu\\anaconda3\\lib\\site-packages (from requests->dash) (2.0.4)\n",
      "Requirement already satisfied: six>=1.7.0 in c:\\users\\bittu\\anaconda3\\lib\\site-packages (from retrying->dash) (1.16.0)\n",
      "Requirement already satisfied: colorama in c:\\users\\bittu\\anaconda3\\lib\\site-packages (from click>=5.1->Flask<3.1,>=1.0.4->dash) (0.4.6)\n",
      "Requirement already satisfied: MarkupSafe>=0.23 in c:\\users\\bittu\\anaconda3\\lib\\site-packages (from Jinja2>=2.10.1->Flask<3.1,>=1.0.4->dash) (2.0.1)\n",
      "Note: you may need to restart the kernel to use updated packages.\n"
     ]
    }
   ],
   "source": [
    "pip install dash"
   ]
  },
  {
   "cell_type": "code",
   "execution_count": 35,
   "id": "08563790",
   "metadata": {},
   "outputs": [],
   "source": [
    "from dash import dcc\n",
    "from dash import html"
   ]
  },
  {
   "cell_type": "code",
   "execution_count": 48,
   "id": "0fb24041",
   "metadata": {},
   "outputs": [],
   "source": [
    "import dash\n",
    "import dash_core_components as dcc\n",
    "import dash_html_components as html\n",
    "import pymongo"
   ]
  },
  {
   "cell_type": "code",
   "execution_count": 49,
   "id": "39ff6e14",
   "metadata": {},
   "outputs": [],
   "source": [
    "import dash_core_components as dcc\n",
    "import dash_html_components as html"
   ]
  },
  {
   "cell_type": "code",
   "execution_count": 50,
   "id": "cd99d260",
   "metadata": {},
   "outputs": [],
   "source": [
    "# Connect to MongoDB\n",
    "client = pymongo.MongoClient(\"mongodb://localhost:27017/\")\n",
    "db = client[\"github_users\"]\n",
    "collection = db[\"user_profiles\"]"
   ]
  },
  {
   "cell_type": "code",
   "execution_count": 51,
   "id": "21787bce",
   "metadata": {},
   "outputs": [],
   "source": [
    "# Fetch user data from MongoDB\n",
    "def fetch_user_data(username):\n",
    "    return collection.find_one({\"login\": username})"
   ]
  },
  {
   "cell_type": "code",
   "execution_count": 52,
   "id": "c0f59a1d",
   "metadata": {},
   "outputs": [],
   "source": [
    "# Initialize Dash app\n",
    "app = dash.Dash(__name__)"
   ]
  },
  {
   "cell_type": "code",
   "execution_count": 53,
   "id": "8d9f4b7a",
   "metadata": {},
   "outputs": [],
   "source": [
    "# Define app layout\n",
    "app.layout = html.Div(children=[\n",
    "    html.H1(children='GitHub User Analytics Dashboard'),\n",
    "    dcc.Input(id='username-input', type='text', value=''),\n",
    "    html.Button('Search', id='submit-val', n_clicks=0),\n",
    "    html.Div(id='output-container-button')\n",
    "])"
   ]
  },
  {
   "cell_type": "code",
   "execution_count": 54,
   "id": "3e96308a",
   "metadata": {},
   "outputs": [],
   "source": [
    "# Callback to display user statistics\n",
    "@app.callback(\n",
    "    dash.dependencies.Output('output-container-button', 'children'),\n",
    "    [dash.dependencies.Input('submit-val', 'n_clicks')],\n",
    "    [dash.dependencies.State('username-input', 'value')]\n",
    ")\n",
    "def display_user_stats(n_clicks, value):\n",
    "    if n_clicks > 0:\n",
    "        user_data = fetch_user_data(value)\n",
    "        if user_data:\n",
    "            return html.Div(children=[\n",
    "                html.H2(f'User: {user_data[\"login\"]}'),\n",
    "                html.P(f'Public Repositories: {user_data[\"public_repos\"]}'),\n",
    "                # Add more statistics as needed\n",
    "            ])\n",
    "        else:\n",
    "            return html.Div('User not found')"
   ]
  },
  {
   "cell_type": "code",
   "execution_count": 56,
   "id": "b0a3ce07",
   "metadata": {},
   "outputs": [
    {
     "data": {
      "text/html": [
       "\n",
       "        <iframe\n",
       "            width=\"100%\"\n",
       "            height=\"650\"\n",
       "            src=\"http://127.0.0.1:8052/\"\n",
       "            frameborder=\"0\"\n",
       "            allowfullscreen\n",
       "            \n",
       "        ></iframe>\n",
       "        "
      ],
      "text/plain": [
       "<IPython.lib.display.IFrame at 0x25e18b78280>"
      ]
     },
     "metadata": {},
     "output_type": "display_data"
    }
   ],
   "source": [
    "# Run the app\n",
    "if __name__ == '__main__':\n",
    "    app.run_server(debug=True, port=8052)"
   ]
  },
  {
   "cell_type": "code",
   "execution_count": 57,
   "id": "2098fc62",
   "metadata": {},
   "outputs": [],
   "source": [
    "import pymongo\n",
    "from sklearn.metrics.pairwise import cosine_similarity"
   ]
  },
  {
   "cell_type": "code",
   "execution_count": 58,
   "id": "33349245",
   "metadata": {},
   "outputs": [],
   "source": [
    "# Connect to MongoDB\n",
    "client = pymongo.MongoClient(\"mongodb://localhost:27017/\")\n",
    "db = client[\"github_users\"]\n",
    "collection = db[\"user_profiles\"]"
   ]
  },
  {
   "cell_type": "code",
   "execution_count": 63,
   "id": "c4a50d29",
   "metadata": {},
   "outputs": [],
   "source": [
    "# Fetch user data from MongoDB\n",
    "def fetch_user_data(username):\n",
    "    return collection.find_one({\"login\": 'iambitttu'})"
   ]
  },
  {
   "cell_type": "code",
   "execution_count": 64,
   "id": "9125257c",
   "metadata": {},
   "outputs": [],
   "source": [
    "# Process user data and extract features\n",
    "def process_user_data(user_data):\n",
    "    # Extract relevant features such as languages used, commits, etc.\n",
    "    features = [user_data.get(\"languages\", {}), user_data.get(\"total_commits\", 0)]\n",
    "    return features"
   ]
  },
  {
   "cell_type": "code",
   "execution_count": 65,
   "id": "fa88de8b",
   "metadata": {},
   "outputs": [],
   "source": [
    "# Function to recommend similar users\n",
    "def recommend_similar_users(username, top_n=10):\n",
    "    user_data = fetch_user_data(username)\n",
    "    if user_data:\n",
    "        user_features = process_user_data(user_data)\n",
    "        all_users = collection.find()\n",
    "        similarities = {}\n",
    "        for user in all_users:\n",
    "            if user[\"login\"] != username:\n",
    "                other_user_features = process_user_data(user)\n",
    "                similarity_score = cosine_similarity([user_features], [other_user_features])[0][0]\n",
    "                similarities[user[\"login\"]] = similarity_score\n",
    "        similar_users = sorted(similarities.items(), key=lambda x: x[1], reverse=True)[:top_n]\n",
    "        return similar_users\n",
    "    else:\n",
    "        return None"
   ]
  },
  {
   "cell_type": "code",
   "execution_count": null,
   "id": "ecf4e10a",
   "metadata": {},
   "outputs": [],
   "source": [
    "# Example usage\n",
    "username = \"octocat\"\n",
    "similar_users = recommend_similar_users(username)\n",
    "if similar_users:\n",
    "    print(f\"Top 10 similar users for {username}:\")\n",
    "    for user, similarity in similar_users:\n",
    "        print(f\"{user}: {similarity}\")\n",
    "else:\n",
    "    print(\"User not found\")"
   ]
  }
 ],
 "metadata": {
  "kernelspec": {
   "display_name": "Python 3 (ipykernel)",
   "language": "python",
   "name": "python3"
  },
  "language_info": {
   "codemirror_mode": {
    "name": "ipython",
    "version": 3
   },
   "file_extension": ".py",
   "mimetype": "text/x-python",
   "name": "python",
   "nbconvert_exporter": "python",
   "pygments_lexer": "ipython3",
   "version": "3.9.13"
  }
 },
 "nbformat": 4,
 "nbformat_minor": 5
}
